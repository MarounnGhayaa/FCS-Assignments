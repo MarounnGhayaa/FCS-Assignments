{
 "cells": [
  {
   "cell_type": "markdown",
   "metadata": {},
   "source": [
    "Exercise 1:"
   ]
  },
  {
   "cell_type": "code",
   "execution_count": null,
   "metadata": {},
   "outputs": [],
   "source": [
    "def binarySearchRecursive(list1, key, start, end):\n",
    "    if start > end:\n",
    "        return False\n",
    "    mid = (start + end) // 2\n",
    "    if list1[mid] == key:\n",
    "        return True\n",
    "    elif list1[mid] < key:\n",
    "        return binarySearchRecursive(list1, key, mid + 1, end)\n",
    "    else:\n",
    "        return binarySearchRecursive(list1, key, start, mid - 1)\n",
    "list1 = [1, 2, 3, 4, 5, 6, 7, 8, 9, 10, 11, 12, 13, 14]\n",
    "key = int(input(\"Enter the key\"))\n",
    "res = binarySearchRecursive(list1, key, 0, len(list1) - 1)\n",
    "if key in list1:\n",
    "    print(key,\"is found in this list: \", list1)\n",
    "else:\n",
    "    print(key, \" is not found in this list: \", list1)"
   ]
  },
  {
   "cell_type": "markdown",
   "metadata": {},
   "source": [
    "Exercise 2:"
   ]
  },
  {
   "cell_type": "code",
   "execution_count": null,
   "metadata": {},
   "outputs": [],
   "source": [
    "def combine(list1, num1, str1 = \" \"):\n",
    "    if num1 == 0:\n",
    "        print(str1)\n",
    "        return\n",
    "    for element in list1:\n",
    "        combine(list1, num1 - 1, str1 + element)\n",
    "list1 = ['a', 'b', 'c']\n",
    "num1 = 2\n",
    "combine(list1, num1)"
   ]
  },
  {
   "cell_type": "markdown",
   "metadata": {},
   "source": [
    "Exercise 4:"
   ]
  },
  {
   "cell_type": "code",
   "execution_count": null,
   "metadata": {},
   "outputs": [],
   "source": [
    "def merge(list1,start,end):\n",
    "    mid=(start+end)//2\n",
    "    i=start\n",
    "    j=mid+1\n",
    "    temp=[]\n",
    "    while i<=mid and j<=end:\n",
    "        if list1[i]<list1[j] :\n",
    "            temp.append(list1[i])\n",
    "            i+=1\n",
    "        else:\n",
    "            temp.append(list1[j])\n",
    "            j+=1\n",
    "    while i<=mid:\n",
    "        temp.append(list1[i])\n",
    "        i+=1   \n",
    "    while j<=end:\n",
    "        temp.append(list1[j])\n",
    "        j+=1   \n",
    "    list1[start:end+1]=temp\n",
    "def mergeSort(list1,start,end):\n",
    "    if start==end:\n",
    "        return list1\n",
    "    mid=(start+end)//2\n",
    "    mergeSort(list1,start,mid)\n",
    "    mergeSort(list1,mid+1,end)\n",
    "    merge(list1,start,end)\n",
    "    return list1\n",
    "list1=[ 1,3,56,234,789]\n",
    "val = int(input(\"Enter an integer: \"))\n",
    "list1.append(val) \n",
    "print(mergeSort(list1,0,len(list1)-1))\n"
   ]
  },
  {
   "cell_type": "markdown",
   "metadata": {},
   "source": [
    "Exercise 3:"
   ]
  },
  {
   "cell_type": "code",
   "execution_count": null,
   "metadata": {},
   "outputs": [],
   "source": [
    "def items_total(quantity, price):\n",
    "    return quantity * price\n",
    "def item_review(name, price, quantity, total):\n",
    "    return print(\"Name:\", name,\"| Price:\", price, \"| Quantity:\", quantity, \"| Total:\", total)\n",
    "repeat = \"y\"\n",
    "final_total = 0\n",
    "while repeat == \"y\":\n",
    "    new_item = \"y\"\n",
    "    final_total_receipt = 0\n",
    "    while new_item == \"y\":\n",
    "        item_name = input(\"Enter the name of the item\")\n",
    "        item_price = int(input(\"Enter the price of the item\"))\n",
    "        quantity = int(input(\"Enter the quantity of the item\"))\n",
    "        total = items_total(quantity, item_price)\n",
    "        item_review(item_name, item_price, quantity, total)\n",
    "        final_total_receipt += total\n",
    "        new_item = input(\"Enter y to add a new item\").lower()\n",
    "    print(\"This receipt has a total of:\", final_total_receipt)\n",
    "    final_total += final_total_receipt\n",
    "    final_total_receipt = 0\n",
    "    repeat = input(\"Enter y to add a new receipt\").lower()\n",
    "print(\"Your final Total is: \", final_total)\n",
    "final_total = 0"
   ]
  }
 ],
 "metadata": {
  "kernelspec": {
   "display_name": "Python 3",
   "language": "python",
   "name": "python3"
  },
  "language_info": {
   "codemirror_mode": {
    "name": "ipython",
    "version": 3
   },
   "file_extension": ".py",
   "mimetype": "text/x-python",
   "name": "python",
   "nbconvert_exporter": "python",
   "pygments_lexer": "ipython3",
   "version": "3.12.7"
  }
 },
 "nbformat": 4,
 "nbformat_minor": 2
}
