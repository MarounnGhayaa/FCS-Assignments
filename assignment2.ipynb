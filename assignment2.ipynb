{
 "cells": [
  {
   "cell_type": "markdown",
   "metadata": {},
   "source": [
    "Exercise 1:"
   ]
  },
  {
   "cell_type": "code",
   "execution_count": null,
   "metadata": {},
   "outputs": [],
   "source": [
    "list1 = [54,76,2,4,98,100]\n",
    "int1 = int(input(\"Enter the first integer\"))\n",
    "int2 = int(input(\"Enter the second integer\"))\n",
    "for i in list1:\n",
    "    if int1 <= i <= int2:\n",
    "        print(i)"
   ]
  },
  {
   "cell_type": "markdown",
   "metadata": {},
   "source": [
    "Exercise 2:"
   ]
  },
  {
   "cell_type": "code",
   "execution_count": null,
   "metadata": {},
   "outputs": [],
   "source": [
    "Names = [\"Maria\", \"Hala\", \"Ghady\", \"Ehsan\", \"Joe\", \"Zoe\"]\n",
    "repeat = \"y\"\n",
    "while repeat == \"y\":\n",
    "    character = input(\"Enter a letter\")\n",
    "    for Name in Names:\n",
    "        if character in Name:\n",
    "            print(Name)\n",
    "    repeat = input(\"Enter y if you want to add another integer\")"
   ]
  },
  {
   "cell_type": "markdown",
   "metadata": {},
   "source": [
    "Exercise: 3"
   ]
  },
  {
   "cell_type": "code",
   "execution_count": null,
   "metadata": {},
   "outputs": [],
   "source": [
    "numbers = [-12, 4, 12, 25, 67]\n",
    "repeat = \"y\"\n",
    "while repeat == \"y\":\n",
    "    int1 = int(input(\"Enter an integer\"))\n",
    "    numbers.append(int1)\n",
    "    numbers.sort()\n",
    "    print(numbers)\n",
    "    repeat = input(\"Enter y if you want to add another integer\")"
   ]
  },
  {
   "cell_type": "markdown",
   "metadata": {},
   "source": [
    "Exercise 4:"
   ]
  },
  {
   "cell_type": "code",
   "execution_count": null,
   "metadata": {},
   "outputs": [],
   "source": [
    "Words = \"Is this the real life? Is this just fantasy? Caught in a landslide, no escape from reality Open your eyes, look up to the skies and see I'm just a poor boy, I need no sympathy Because I'm easy come, easy go, little high, little low Any way the wind blows doesn't really matter to me, to me Mama, just killed a man Put a gun against his head, pulled my trigger, now he&#39;s dead Mama, life had just begun But now I've gone and thrown it all away Mama, ooh, didn't mean to make you cry If I'm not back again this time tomorrowCarry on, carry on as if nothing really matters Too late, my time has come Sends shivers down my spine, body's aching all the time Goodbye, everybody,I've got to go Gotta leave you all behind and face the truth Mama, ooh (any way the wind blows) I don't wanna die I sometimes wish I'd never been born at all I see a little silhouetto of a man Scaramouche, Scaramouche, will you dothe Fandango? Thunderbolt and lightning, very, very frightening me (Galileo) Galileo, (Galileo) Galileo, Galileo Figaro, magnifico But I'm just a poor boy, nobody loves me He's just a poor boy from a poor family Spare him his life from this monstrosity.\"\n",
    "int1 = int(input(\"Enter the first integer\"))\n",
    "int2 = int(input(\"Enter the second integer\"))\n",
    "if int1 > int2:\n",
    "    res = int1 - int2\n",
    "else:\n",
    "    res = int2 - int1\n",
    "splitWords = Words.split()\n",
    "if res < len(splitWords):\n",
    "    print(splitWords[res])\n",
    "else:\n",
    "    print(\"Invalid inputs\")\n"
   ]
  }
 ],
 "metadata": {
  "kernelspec": {
   "display_name": "Python 3",
   "language": "python",
   "name": "python3"
  },
  "language_info": {
   "codemirror_mode": {
    "name": "ipython",
    "version": 3
   },
   "file_extension": ".py",
   "mimetype": "text/x-python",
   "name": "python",
   "nbconvert_exporter": "python",
   "pygments_lexer": "ipython3",
   "version": "3.12.7"
  }
 },
 "nbformat": 4,
 "nbformat_minor": 2
}
