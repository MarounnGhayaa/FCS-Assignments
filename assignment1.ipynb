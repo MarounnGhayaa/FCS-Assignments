{
 "cells": [
  {
   "cell_type": "markdown",
   "metadata": {},
   "source": [
    "Exercise 1:"
   ]
  },
  {
   "cell_type": "code",
   "execution_count": null,
   "metadata": {},
   "outputs": [],
   "source": [
    "age = int(input (\"Enter your age:\"))\n",
    "if (age < 18):\n",
    "    print(\"insufficient age\")\n",
    "else:\n",
    "    country = input (\"Enter your country of residency:\")\n",
    "    if (country != \"Lebanon\"):\n",
    "        print(\"foreign country\")\n",
    "    else:\n",
    "        score = int(input (\"Enter you hacker rank score: \"))\n",
    "        if (score < 110):\n",
    "            print(\"insufficient hacker rank score\")\n",
    "        else:\n",
    "            print(\"Welcome to FCS!\")"
   ]
  },
  {
   "cell_type": "markdown",
   "metadata": {},
   "source": [
    "Exercise 2:"
   ]
  },
  {
   "cell_type": "code",
   "execution_count": null,
   "metadata": {},
   "outputs": [],
   "source": [
    "num = int (input (\"Enter an integer:\"))\n",
    "if (num % 2 == 0):\n",
    "    print (\"The number is even\")\n",
    "else:\n",
    "    print (\"The number is odd\")"
   ]
  }
 ],
 "metadata": {
  "kernelspec": {
   "display_name": "Python 3",
   "language": "python",
   "name": "python3"
  },
  "language_info": {
   "codemirror_mode": {
    "name": "ipython",
    "version": 3
   },
   "file_extension": ".py",
   "mimetype": "text/x-python",
   "name": "python",
   "nbconvert_exporter": "python",
   "pygments_lexer": "ipython3",
   "version": "3.12.6"
  }
 },
 "nbformat": 4,
 "nbformat_minor": 2
}
